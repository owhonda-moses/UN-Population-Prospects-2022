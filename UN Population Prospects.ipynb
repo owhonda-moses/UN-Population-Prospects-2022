{
 "cells": [
  {
   "cell_type": "code",
   "execution_count": 1,
   "id": "9e995fc5",
   "metadata": {},
   "outputs": [],
   "source": [
    "# Import package to be used\n",
    "import pandas as pd"
   ]
  },
  {
   "cell_type": "code",
   "execution_count": 2,
   "id": "f7125135",
   "metadata": {},
   "outputs": [],
   "source": [
    "# Read in data\n",
    "un_df = pd.read_excel('WPP2022_GEN_F01_DEMOGRAPHIC_INDICATORS_REV1.xlsx')\n",
    "un_es = pd.read_excel('WPP2022_GEN_F01_DEMOGRAPHIC_INDICATORS_REV1_estimate.xlsx')"
   ]
  },
  {
   "cell_type": "code",
   "execution_count": 3,
   "id": "96d36b72",
   "metadata": {},
   "outputs": [],
   "source": [
    "# Make copy of datasets\n",
    "df = un_df.copy()\n",
    "es = un_es.copy()"
   ]
  },
  {
   "cell_type": "code",
   "execution_count": 4,
   "id": "8cf049e0",
   "metadata": {},
   "outputs": [],
   "source": [
    "# Reindex datasets\n",
    "df.columns = df.iloc[0]\n",
    "es.columns = df.iloc[0]"
   ]
  },
  {
   "cell_type": "code",
   "execution_count": 5,
   "id": "5d396843",
   "metadata": {},
   "outputs": [],
   "source": [
    "# Drop first index and selected columns for historical data\n",
    "df = df.drop(index=0)\n",
    "df = df.drop(['Index', 'Variant', 'Notes', 'Location code', 'ISO2 Alpha-code', 'SDMX code**', 'Parent code',\n",
    "              'Total Population, as of 1 January (thousands)', 'Population Annual Doubling Time (years)',\n",
    "              'Mortality between Age 15 and 60, both sexes (deaths under age 60 per 1,000 alive at age 15)'], axis=1)"
   ]
  },
  {
   "cell_type": "code",
   "execution_count": 6,
   "id": "66cf36e2",
   "metadata": {},
   "outputs": [],
   "source": [
    "# Drop first index and selected columns for estimated data\n",
    "es = es.drop(index=0)\n",
    "es = es.drop(['Index', 'Variant', 'Notes', 'Location code', 'ISO2 Alpha-code', 'SDMX code**', 'Parent code',\n",
    "              'Total Population, as of 1 January (thousands)', 'Population Annual Doubling Time (years)',\n",
    "              'Mortality between Age 15 and 60, both sexes (deaths under age 60 per 1,000 alive at age 15)'], axis=1)"
   ]
  },
  {
   "cell_type": "code",
   "execution_count": 7,
   "id": "f776c3f7",
   "metadata": {
    "scrolled": true
   },
   "outputs": [],
   "source": [
    "# Rename columns containing highlighted string for historical data\n",
    "replacers = {', as of 1 July':'', ' (thousands)':'', ' (years)':'', ', both sexes':''}\n",
    "for i, v in replacers.items():\n",
    "    df.columns = df.columns.str.replace(i, v, regex=False)"
   ]
  },
  {
   "cell_type": "code",
   "execution_count": 8,
   "id": "913e41ee",
   "metadata": {},
   "outputs": [],
   "source": [
    "# Rename columns containing highlighted string for estimated population\n",
    "for i, v in replacers.items():\n",
    "    es.columns = es.columns.str.replace(i, v, regex=False)"
   ]
  },
  {
   "cell_type": "code",
   "execution_count": 9,
   "id": "7ccbb8d5",
   "metadata": {},
   "outputs": [
    {
     "data": {
      "text/html": [
       "<div>\n",
       "<style scoped>\n",
       "    .dataframe tbody tr th:only-of-type {\n",
       "        vertical-align: middle;\n",
       "    }\n",
       "\n",
       "    .dataframe tbody tr th {\n",
       "        vertical-align: top;\n",
       "    }\n",
       "\n",
       "    .dataframe thead th {\n",
       "        text-align: right;\n",
       "    }\n",
       "</style>\n",
       "<table border=\"1\" class=\"dataframe\">\n",
       "  <thead>\n",
       "    <tr style=\"text-align: right;\">\n",
       "      <th></th>\n",
       "      <th>Region, subregion, country or area *</th>\n",
       "      <th>ISO3 Alpha-code</th>\n",
       "      <th>Type</th>\n",
       "      <th>Year</th>\n",
       "      <th>Total Population</th>\n",
       "      <th>Male Population</th>\n",
       "      <th>Female Population</th>\n",
       "      <th>Population Density (persons per square km)</th>\n",
       "      <th>Population Sex Ratio (males per 100 females)</th>\n",
       "      <th>Median Age</th>\n",
       "      <th>...</th>\n",
       "      <th>Mortality before Age 60 (deaths under age 60 per 1,000 live births)</th>\n",
       "      <th>Male Mortality before Age 60 (deaths under age 60 per 1,000 male live births)</th>\n",
       "      <th>Female Mortality before Age 60 (deaths under age 60 per 1,000 female live births)</th>\n",
       "      <th>Mortality between Age 15 and 50 (deaths under age 50 per 1,000 alive at age 15)</th>\n",
       "      <th>Male Mortality between Age 15 and 50 (deaths under age 50 per 1,000 males alive at age 15)</th>\n",
       "      <th>Female Mortality between Age 15 and 50 (deaths under age 50 per 1,000 females alive at age 15)</th>\n",
       "      <th>Male Mortality between Age 15 and 60 (deaths under age 60 per 1,000 males alive at age 15)</th>\n",
       "      <th>Female Mortality between Age 15 and 60 (deaths under age 60 per 1,000 females alive at age 15)</th>\n",
       "      <th>Net Number of Migrants</th>\n",
       "      <th>Net Migration Rate (per 1,000 population)</th>\n",
       "    </tr>\n",
       "  </thead>\n",
       "  <tbody>\n",
       "    <tr>\n",
       "      <th>1</th>\n",
       "      <td>WORLD</td>\n",
       "      <td>NaN</td>\n",
       "      <td>World</td>\n",
       "      <td>1950</td>\n",
       "      <td>2499322.157</td>\n",
       "      <td>1245362.965</td>\n",
       "      <td>1253959.192</td>\n",
       "      <td>19.166</td>\n",
       "      <td>99.314</td>\n",
       "      <td>22.224</td>\n",
       "      <td>...</td>\n",
       "      <td>540.385</td>\n",
       "      <td>580.75</td>\n",
       "      <td>498.04</td>\n",
       "      <td>240.316</td>\n",
       "      <td>271.625</td>\n",
       "      <td>208.192</td>\n",
       "      <td>430.259</td>\n",
       "      <td>324.931</td>\n",
       "      <td>0</td>\n",
       "      <td>0</td>\n",
       "    </tr>\n",
       "  </tbody>\n",
       "</table>\n",
       "<p>1 rows × 55 columns</p>\n",
       "</div>"
      ],
      "text/plain": [
       "0 Region, subregion, country or area * ISO3 Alpha-code   Type  Year  \\\n",
       "1                                WORLD             NaN  World  1950   \n",
       "\n",
       "0 Total Population Male Population Female Population  \\\n",
       "1      2499322.157     1245362.965       1253959.192   \n",
       "\n",
       "0 Population Density (persons per square km)  \\\n",
       "1                                     19.166   \n",
       "\n",
       "0 Population Sex Ratio (males per 100 females) Median Age  ...  \\\n",
       "1                                       99.314     22.224  ...   \n",
       "\n",
       "0 Mortality before Age 60 (deaths under age 60 per 1,000 live births)  \\\n",
       "1                                            540.385                    \n",
       "\n",
       "0 Male Mortality before Age 60 (deaths under age 60 per 1,000 male live births)  \\\n",
       "1                                             580.75                              \n",
       "\n",
       "0 Female Mortality before Age 60 (deaths under age 60 per 1,000 female live births)  \\\n",
       "1                                             498.04                                  \n",
       "\n",
       "0 Mortality between Age 15 and 50 (deaths under age 50 per 1,000 alive at age 15)  \\\n",
       "1                                            240.316                                \n",
       "\n",
       "0 Male Mortality between Age 15 and 50 (deaths under age 50 per 1,000 males alive at age 15)  \\\n",
       "1                                            271.625                                           \n",
       "\n",
       "0 Female Mortality between Age 15 and 50 (deaths under age 50 per 1,000 females alive at age 15)  \\\n",
       "1                                            208.192                                               \n",
       "\n",
       "0 Male Mortality between Age 15 and 60 (deaths under age 60 per 1,000 males alive at age 15)  \\\n",
       "1                                            430.259                                           \n",
       "\n",
       "0 Female Mortality between Age 15 and 60 (deaths under age 60 per 1,000 females alive at age 15)  \\\n",
       "1                                            324.931                                               \n",
       "\n",
       "0 Net Number of Migrants Net Migration Rate (per 1,000 population)  \n",
       "1                      0                                         0  \n",
       "\n",
       "[1 rows x 55 columns]"
      ]
     },
     "execution_count": 9,
     "metadata": {},
     "output_type": "execute_result"
    }
   ],
   "source": [
    "# Preview dataframe\n",
    "df.head(1)"
   ]
  },
  {
   "cell_type": "code",
   "execution_count": 10,
   "id": "d976a809",
   "metadata": {},
   "outputs": [],
   "source": [
    "# Rename columns using regular expression for both datasets\n",
    "df.columns = df.columns.str.replace(r\" \\(.*\\)\",\"\", regex=True)\n",
    "es.columns = es.columns.str.replace(r\" \\(.*\\)\",\"\", regex=True)"
   ]
  },
  {
   "cell_type": "code",
   "execution_count": 11,
   "id": "e89fd02c",
   "metadata": {},
   "outputs": [
    {
     "data": {
      "text/html": [
       "<div>\n",
       "<style scoped>\n",
       "    .dataframe tbody tr th:only-of-type {\n",
       "        vertical-align: middle;\n",
       "    }\n",
       "\n",
       "    .dataframe tbody tr th {\n",
       "        vertical-align: top;\n",
       "    }\n",
       "\n",
       "    .dataframe thead th {\n",
       "        text-align: right;\n",
       "    }\n",
       "</style>\n",
       "<table border=\"1\" class=\"dataframe\">\n",
       "  <thead>\n",
       "    <tr style=\"text-align: right;\">\n",
       "      <th></th>\n",
       "      <th>Region, subregion, country or area *</th>\n",
       "      <th>ISO3 Alpha-code</th>\n",
       "      <th>Type</th>\n",
       "      <th>Year</th>\n",
       "      <th>Total Population</th>\n",
       "      <th>Male Population</th>\n",
       "      <th>Female Population</th>\n",
       "      <th>Population Density</th>\n",
       "      <th>Population Sex Ratio</th>\n",
       "      <th>Median Age</th>\n",
       "      <th>...</th>\n",
       "      <th>Mortality before Age 60</th>\n",
       "      <th>Male Mortality before Age 60</th>\n",
       "      <th>Female Mortality before Age 60</th>\n",
       "      <th>Mortality between Age 15 and 50</th>\n",
       "      <th>Male Mortality between Age 15 and 50</th>\n",
       "      <th>Female Mortality between Age 15 and 50</th>\n",
       "      <th>Male Mortality between Age 15 and 60</th>\n",
       "      <th>Female Mortality between Age 15 and 60</th>\n",
       "      <th>Net Number of Migrants</th>\n",
       "      <th>Net Migration Rate</th>\n",
       "    </tr>\n",
       "  </thead>\n",
       "  <tbody>\n",
       "    <tr>\n",
       "      <th>1</th>\n",
       "      <td>WORLD</td>\n",
       "      <td>NaN</td>\n",
       "      <td>World</td>\n",
       "      <td>1950</td>\n",
       "      <td>2499322.157</td>\n",
       "      <td>1245362.965</td>\n",
       "      <td>1253959.192</td>\n",
       "      <td>19.166</td>\n",
       "      <td>99.314</td>\n",
       "      <td>22.224</td>\n",
       "      <td>...</td>\n",
       "      <td>540.385</td>\n",
       "      <td>580.75</td>\n",
       "      <td>498.04</td>\n",
       "      <td>240.316</td>\n",
       "      <td>271.625</td>\n",
       "      <td>208.192</td>\n",
       "      <td>430.259</td>\n",
       "      <td>324.931</td>\n",
       "      <td>0</td>\n",
       "      <td>0</td>\n",
       "    </tr>\n",
       "  </tbody>\n",
       "</table>\n",
       "<p>1 rows × 55 columns</p>\n",
       "</div>"
      ],
      "text/plain": [
       "0 Region, subregion, country or area * ISO3 Alpha-code   Type  Year  \\\n",
       "1                                WORLD             NaN  World  1950   \n",
       "\n",
       "0 Total Population Male Population Female Population Population Density  \\\n",
       "1      2499322.157     1245362.965       1253959.192             19.166   \n",
       "\n",
       "0 Population Sex Ratio Median Age  ... Mortality before Age 60  \\\n",
       "1               99.314     22.224  ...                 540.385   \n",
       "\n",
       "0 Male Mortality before Age 60 Female Mortality before Age 60  \\\n",
       "1                       580.75                         498.04   \n",
       "\n",
       "0 Mortality between Age 15 and 50 Male Mortality between Age 15 and 50  \\\n",
       "1                         240.316                              271.625   \n",
       "\n",
       "0 Female Mortality between Age 15 and 50 Male Mortality between Age 15 and 60  \\\n",
       "1                                208.192                              430.259   \n",
       "\n",
       "0 Female Mortality between Age 15 and 60 Net Number of Migrants  \\\n",
       "1                                324.931                      0   \n",
       "\n",
       "0 Net Migration Rate  \n",
       "1                  0  \n",
       "\n",
       "[1 rows x 55 columns]"
      ]
     },
     "execution_count": 11,
     "metadata": {},
     "output_type": "execute_result"
    }
   ],
   "source": [
    "# Preview dataframe\n",
    "df.head(1)"
   ]
  },
  {
   "cell_type": "code",
   "execution_count": 12,
   "id": "ed7a51ab",
   "metadata": {},
   "outputs": [],
   "source": [
    "# Drop columns containing highlighted string for historical data\n",
    "var = [('Male'), ('Female'), ('under')]\n",
    "for i in var:\n",
    "    df = df.drop(df.filter(regex=i).columns, axis=1)"
   ]
  },
  {
   "cell_type": "code",
   "execution_count": 13,
   "id": "c9ab9d15",
   "metadata": {},
   "outputs": [],
   "source": [
    "# Drop columns containing highlighted string for estimated data\n",
    "for i in var:\n",
    "    es = es.drop(es.filter(regex=i).columns, axis=1)"
   ]
  },
  {
   "cell_type": "code",
   "execution_count": 14,
   "id": "1c7a105d",
   "metadata": {},
   "outputs": [],
   "source": [
    "# Subset datasets to Year to drop entries containing null values from datasets\n",
    "df = df[df['Year'].notna()]\n",
    "es = es[es['Year'].notna()]"
   ]
  },
  {
   "cell_type": "code",
   "execution_count": 15,
   "id": "48ffcfe4",
   "metadata": {},
   "outputs": [],
   "source": [
    "# Manually rename columns in datasets\n",
    "df = df.rename(columns={'Region, subregion, country or area *':'Region', 'Type':'Region Type', \n",
    "                        'Natural Change, Births minus Deaths':'Natural Change', 'ISO3 Alpha-code':'Country'})\n",
    "es = es.rename(columns={'Region, subregion, country or area *':'Region', 'Type':'Region Type',\n",
    "                        'Natural Change, Births minus Deaths':'Natural Change', 'ISO3 Alpha-code':'Country'})"
   ]
  },
  {
   "cell_type": "code",
   "execution_count": 16,
   "id": "20dbac27",
   "metadata": {},
   "outputs": [],
   "source": [
    "# Drop rows with unspecified values connoted with ellipses\n",
    "empty = df[df['Natural Change'] == '...'].index\n",
    "df = df[~df['Natural Change'].index.isin(empty)]\n",
    "\n",
    "empty = es[es['Natural Change'] == '...'].index\n",
    "es = es[~es['Natural Change'].index.isin(empty)]"
   ]
  },
  {
   "cell_type": "markdown",
   "id": "2b0ffa54",
   "metadata": {},
   "source": [
    "Since upper middle-income and lower middle-income countries are summed up as `middle-income countries`, we would drop the upper and lower middle entries from our datasets."
   ]
  },
  {
   "cell_type": "code",
   "execution_count": 17,
   "id": "f938642f",
   "metadata": {},
   "outputs": [],
   "source": [
    "# Drop all columns of Lower-middle and Upper-middle income countries\n",
    "df.drop(df.loc[df['Region'] == 'Lower-middle-income countries'].index, inplace=True)\n",
    "df.drop(df.loc[df['Region'] == 'Upper-middle-income countries'].index, inplace=True)"
   ]
  },
  {
   "cell_type": "markdown",
   "id": "aa470b74",
   "metadata": {},
   "source": [
    "Countries will be listed according to region type using their Alpha-3 codes."
   ]
  },
  {
   "cell_type": "code",
   "execution_count": 18,
   "id": "c84285df",
   "metadata": {},
   "outputs": [],
   "source": [
    "# All countries in the world\n",
    "World = ['ABW', 'AFG', 'AGO', 'AIA', 'ALB', 'AND', 'ARE', 'ARG', 'ARM', 'ASM', 'ATG', 'AUS', 'AUT', 'AZE', 'BDI', 'BEL', 'BEN',\n",
    "          'BES', 'BFA', 'BGD', 'BGR', 'BHR', 'BHS', 'BIH', 'BLM', 'BLR', 'BLZ', 'BMU', 'BOL', 'BRA', 'BRB', 'BRN', 'BTN', 'BWA',\n",
    "          'CAF', 'CAN', 'CHE', 'CHL', 'CHN', 'CIV', 'CMR', 'COD', 'COG', 'COK', 'COL', 'COM', 'CPV', 'CRI', 'CUB', 'CUW', 'CYM',\n",
    "          'CYP', 'CZE', 'DEU', 'DJI', 'DMA', 'DNK', 'DOM', 'DZA', 'ECU', 'EGY', 'ERI', 'ESH', 'ESP', 'EST', 'ETH', 'FIN', 'FJI',\n",
    "          'FLK', 'FRA', 'FRO', 'FSM', 'GAB', 'GBR', 'GEO', 'GGY', 'GHA', 'GIB', 'GIN', 'GLP', 'GMB', 'GNB', 'GNQ', 'GRC', 'GRD',\n",
    "          'GRL', 'GTM', 'GUF', 'GUM', 'GUY', 'HKG', 'HND', 'HRV', 'HTI', 'HUN', 'IDN', 'IMN', 'IND', 'IRL', 'IRN', 'IRQ', 'ISL',\n",
    "          'ISR', 'ITA', 'JAM', 'JEY', 'JOR', 'JPN', 'KAZ', 'KEN', 'KGZ', 'KHM', 'KIR', 'KNA', 'KOR', 'KWT', 'LAO', 'LBN', 'LBR',\n",
    "          'LBY', 'LCA', 'LIE', 'LKA', 'LSO', 'LTU', 'LUX', 'LVA', 'MAC', 'MAF', 'MAR', 'MCO', 'MDA', 'MDG', 'MDV', 'MEX', 'MHL',\n",
    "          'MKD', 'MLI', 'MLT', 'MMR', 'MNE', 'MNG', 'MNP', 'MOZ', 'MRT', 'MSR', 'MTQ', 'MUS', 'MWI', 'MYS', 'MYT', 'NAM', 'NCL',\n",
    "          'NER', 'NGA', 'NIC', 'NIU', 'NLD', 'NOR', 'NPL', 'NRU', 'NZL', 'OMN', 'PAK', 'PAN', 'PER', 'PHL', 'PLW', 'PNG', 'POL',\n",
    "          'PRI', 'PRK', 'PRT', 'PRY', 'PSE', 'PYF', 'QAT', 'REU', 'ROU', 'RUS', 'RWA', 'SAU', 'SDN', 'SEN', 'SGP', 'SHN', 'SLB',\n",
    "          'SLE', 'SLV', 'SMR', 'SOM', 'SPM', 'SRB', 'SSD', 'STP', 'SUR', 'SVK', 'SVN', 'SWE', 'SWZ', 'SXM', 'SYC', 'SYR', 'TCA',\n",
    "          'TCD', 'TGO', 'THA', 'TJK', 'TKL', 'TKM', 'TLS', 'TON', 'TTO', 'TUN', 'TUR', 'TUV', 'TWN', 'TZA', 'UGA', 'UKR', 'URY',\n",
    "          'USA', 'UZB', 'VCT', 'VEN', 'VGB', 'VIR', 'VNM', 'VUT', 'WLF', 'WSM', 'XKX', 'YEM', 'ZAF', 'ZMB', 'ZWE']"
   ]
  },
  {
   "cell_type": "code",
   "execution_count": 19,
   "id": "31afe00d",
   "metadata": {},
   "outputs": [],
   "source": [
    "# Countries in Africa\n",
    "Western_Africa = ['BEN', 'BFA', 'CIV', 'CPV', 'GHA', 'GIN', 'GMB', 'GNB', 'LBR', 'MLI',\n",
    "                  'MRT', 'NER', 'NGA', 'SEN', 'SHN', 'SLE', 'TGO']\n",
    "Northern_Africa = ['DZA', 'EGY', 'ESH', 'LBY', 'MAR', 'SDN', 'TUN']\n",
    "Eastern_Africa = ['BDI', 'COM', 'DJI', 'ERI', 'ETH', 'KEN', 'MDG', 'MOZ', 'MUS', 'MWI',\n",
    "                  'MYT', 'REU', 'RWA', 'SOM', 'SSD', 'SYC', 'TZA', 'UGA', 'ZMB', 'ZWE']\n",
    "Central_Africa = ['AGO', 'CAF', 'CMR', 'COD', 'COG', 'GAB', 'GNQ', 'STP', 'TCD']\n",
    "Southern_Africa = ['BWA', 'LSO', 'NAM', 'SWZ', 'ZAF']\n",
    "\n",
    "Africa = ['AGO', 'BDI', 'BEN', 'BFA', 'BWA', 'CAF', 'CIV', 'CMR', 'COD', 'COG', 'COM', 'CPV', 'DJI', 'DZA', 'EGY', 'ERI', 'ESH',\n",
    "          'ETH', 'GAB', 'GHA', 'GIN', 'GMB', 'GNB', 'GNQ', 'KEN', 'LBR', 'LBY', 'LSO', 'MAR', 'MDG', 'MLI', 'MOZ', 'MRT', 'MUS',\n",
    "          'MWI', 'MYT', 'NAM', 'NER', 'NGA', 'REU', 'RWA', 'SDN', 'SEN', 'SHN', 'SLE', 'SOM', 'SSD', 'STP', 'SWZ', 'SYC', 'TCD',\n",
    "          'TGO', 'TUN', 'TZA', 'UGA', 'ZAF', 'ZMB', 'ZWE']"
   ]
  },
  {
   "cell_type": "code",
   "execution_count": 20,
   "id": "8d297322",
   "metadata": {},
   "outputs": [],
   "source": [
    "# Countries in Asia\n",
    "Central_Asia = ['KAZ', 'KGZ', 'TJK', 'TKM', 'UZB']\n",
    "Eastern_Asia = ['CHN', 'HKG', 'JPN', 'KOR', 'MAC', 'MNG', 'PRK', 'TWN']\n",
    "Southern_Asia = ['AFG', 'BGD', 'BTN', 'IND', 'IRN', 'LKA', 'MDV', 'NPL', 'PAK']\n",
    "South_Eastern_Asia = ['BRN', 'IDN', 'KHM', 'LAO', 'MMR', 'MYS', 'PHL', 'SGP', 'THA', 'TLS', 'VNM']\n",
    "Western_Asia = ['ARE', 'ARM', 'AZE', 'BHR', 'CYP', 'GEO', 'IRQ', 'ISR', 'JOR',\n",
    "                'KWT', 'LBN', 'OMN', 'PSE', 'QAT', 'SAU', 'SYR', 'TUR', 'YEM']\n",
    "\n",
    "Asia = ['AFG', 'ARE', 'ARM', 'AZE', 'BGD', 'BHR', 'BRN', 'BTN', 'CHN', 'CYP', 'GEO', 'HKG', 'IDN', 'IND', 'IRN', 'IRQ', 'ISR',\n",
    "        'JOR', 'JPN', 'KAZ', 'KGZ', 'KHM', 'KOR', 'KWT', 'LAO', 'LBN', 'LKA', 'MAC', 'MDV', 'MMR', 'MNG', 'MYS', 'NPL', 'OMN',\n",
    "        'PAK', 'PHL', 'PRK', 'PSE', 'QAT', 'SAU', 'SGP', 'SYR', 'THA', 'TJK', 'TKM', 'TLS', 'TUR', 'TWN', 'UZB', 'VNM', 'YEM']"
   ]
  },
  {
   "cell_type": "code",
   "execution_count": 21,
   "id": "5fa0706a",
   "metadata": {},
   "outputs": [],
   "source": [
    "# Countries in Europe\n",
    "Eastern_Europe = ['BGR', 'BLR', 'CZE', 'HUN', 'MDA', 'POL', 'ROU', 'RUS', 'SVK', 'UKR']\n",
    "Northern_Europe = ['DNK', 'EST', 'FIN', 'FRO', 'GBR', 'GGY', 'IMN', 'IRL', 'ISL', 'JEY', 'LTU', 'LVA', 'NOR', 'SWE']\n",
    "Southern_Europe = ['ALB', 'AND', 'BIH', 'ESP', 'GIB', 'GRC', 'HRV', 'ITA', 'MKD', 'MLT', 'MNE', 'PRT', 'SMR', 'SRB', 'SVN', 'XKX']\n",
    "Western_Europe = ['AUT', 'BEL', 'CHE', 'DEU', 'FRA', 'LIE', 'LUX', 'MCO', 'NLD']\n",
    "\n",
    "Europe = ['ALB', 'AND', 'AUT', 'BEL', 'BGR', 'BIH', 'BLR', 'CHE', 'CZE', 'DEU', 'DNK', 'ESP', 'EST', 'FIN', 'FRA', 'FRO', 'GBR',\n",
    "          'GGY', 'GIB', 'GRC', 'HRV', 'HUN', 'IMN', 'IRL', 'ISL', 'ITA', 'JEY', 'LIE', 'LTU', 'LUX', 'LVA', 'MCO', 'MDA', 'MKD',\n",
    "          'MLT', 'MNE', 'NLD', 'NOR', 'POL', 'PRT', 'ROU', 'RUS', 'SMR', 'SRB', 'SVK', 'SVN', 'SWE', 'UKR', 'XKX']"
   ]
  },
  {
   "cell_type": "code",
   "execution_count": 22,
   "id": "5eae070c",
   "metadata": {},
   "outputs": [],
   "source": [
    "# Countries in Northern America\n",
    "Northern_America = ['BMU', 'CAN', 'GRL', 'SPM', 'USA']"
   ]
  },
  {
   "cell_type": "code",
   "execution_count": 23,
   "id": "7b398a32",
   "metadata": {},
   "outputs": [],
   "source": [
    "# Countries in Latin America & the Caribbean\n",
    "Caribbean = ['ABW', 'AIA', 'ATG', 'BES', 'BHS', 'BLM', 'BRB', 'CUB', 'CUW', 'CYM', 'DMA', 'DOM', 'GLP', 'GRD', 'HTI',\n",
    "             'JAM', 'KNA', 'LCA', 'MAF', 'MSR', 'MTQ', 'PRI', 'SXM', 'TCA', 'TTO', 'VCT', 'VGB', 'VIR']\n",
    "Central_America = ['BLZ', 'CRI', 'GTM', 'HND', 'MEX', 'NIC', 'PAN', 'SLV']\n",
    "South_America = ['ARG', 'BOL', 'BRA', 'CHL', 'COL', 'ECU', 'FLK', 'GUF', 'GUY', 'PER', 'PRY', 'SUR', 'URY', 'VEN']\n",
    "\n",
    "Latin_America_and_the_Caribbean = ['ABW', 'AIA', 'ARG', 'ATG', 'BES', 'BHS', 'BLM', 'BLZ', 'BOL', 'BRA', 'BRB', 'CHL', 'COL',\n",
    "                                   'CRI', 'CUB', 'CUW', 'CYM', 'DMA', 'DOM', 'ECU', 'FLK', 'GLP', 'GRD', 'GTM', 'GUF', 'GUY',\n",
    "                                   'HND', 'HTI', 'JAM', 'KNA', 'LCA', 'MAF', 'MEX', 'MSR', 'MTQ', 'NIC', 'PAN', 'PER', 'PRI',\n",
    "                                   'PRY', 'SLV', 'SUR', 'SXM', 'TCA', 'TTO', 'URY', 'VCT', 'VEN', 'VGB', 'VIR']"
   ]
  },
  {
   "cell_type": "code",
   "execution_count": 24,
   "id": "0c262883",
   "metadata": {},
   "outputs": [],
   "source": [
    "# Countries in Oceania\n",
    "Australia_New_Zealand = ['AUS', 'NZL']\n",
    "Melanesia = ['FJI', 'NCL', 'PNG', 'SLB', 'VUT']\n",
    "Micronesia = ['FSM', 'GUM', 'KIR', 'MHL', 'MNP', 'NRU', 'PLW']\n",
    "Polynesia = ['ASM', 'COK', 'NIU', 'PYF', 'TKL', 'TON', 'TUV', 'WLF', 'WSM']\n",
    "\n",
    "Oceania = ['ASM', 'AUS', 'COK', 'FJI', 'FSM', 'GUM', 'KIR', 'MHL', 'MNP', 'NCL', 'NIU', 'NRU',\n",
    "           'NZL', 'PLW', 'PNG', 'PYF', 'SLB', 'TKL', 'TON', 'TUV', 'VUT', 'WLF', 'WSM']"
   ]
  },
  {
   "cell_type": "code",
   "execution_count": 25,
   "id": "454b6a37",
   "metadata": {},
   "outputs": [],
   "source": [
    "# Development groups\n",
    "More_developed_countries = ['ALB', 'AND', 'AUS', 'AUT', 'BEL', 'BGR', 'BIH', 'BLR', 'BMU', 'CAN', 'CHE', 'CZE', 'DEU', 'DNK',\n",
    "                            'ESP', 'EST', 'FIN', 'FRA', 'FRO', 'GBR', 'GGY', 'GIB', 'GRC', 'GRL', 'HRV', 'HUN', 'IMN', 'IRL',\n",
    "                            'ISL', 'ITA', 'JEY', 'JPN', 'LIE', 'LTU', 'LUX', 'LVA', 'MCO', 'MDA', 'MKD', 'MLT', 'MNE', 'NLD',\n",
    "                            'NOR', 'NZL', 'POL', 'PRT', 'ROU', 'RUS', 'SMR', 'SPM', 'SRB', 'SVK', 'SVN', 'SWE', 'UKR', 'USA',\n",
    "                            'XKX']\n",
    "Less_developed_countries = ['ABW', 'AFG', 'AGO', 'AIA', 'ARE', 'ARG', 'ARM', 'ASM', 'ATG', 'AZE', 'BDI', 'BEN', 'BES', 'BFA',\n",
    "                            'BGD', 'BHR', 'BHS', 'BLM', 'BLZ', 'BOL', 'BRA', 'BRB', 'BRN', 'BTN', 'BWA', 'CAF', 'CHL', 'CHN',\n",
    "                            'CIV', 'CMR', 'COD', 'COG', 'COK', 'COL', 'COM', 'CPV', 'CRI', 'CUB', 'CUW', 'CYM', 'CYP', 'DJI',\n",
    "                            'DMA', 'DOM', 'DZA', 'ECU', 'EGY', 'ERI', 'ESH', 'ETH', 'FJI', 'FLK', 'FSM', 'GAB', 'GEO', 'GHA',\n",
    "                            'GIN', 'GLP', 'GMB', 'GNB', 'GNQ', 'GRD', 'GTM', 'GUF', 'GUM', 'GUY', 'HKG', 'HND', 'HTI', 'IDN', \n",
    "                            'IND', 'IRN', 'IRQ', 'ISR', 'JAM', 'JOR', 'KAZ', 'KEN', 'KGZ', 'KHM', 'KIR', 'KNA', 'KOR', 'KWT',\n",
    "                            'LAO', 'LBN', 'LBR', 'LBY', 'LCA', 'LKA', 'LSO', 'MAC', 'MAF', 'MAR', 'MDG', 'MDV', 'MEX', 'MHL',\n",
    "                            'MLI', 'MMR', 'MNG', 'MNP', 'MOZ', 'MRT', 'MSR', 'MTQ', 'MUS', 'MWI', 'MYS', 'MYT', 'NAM', 'NCL',\n",
    "                            'NER', 'NGA', 'NIC', 'NIU', 'NPL', 'NRU', 'OMN', 'PAK', 'PAN', 'PER', 'PHL', 'PLW', 'PNG', 'PRI',\n",
    "                            'PRK', 'PRY', 'PSE', 'PYF', 'QAT', 'REU', 'RWA', 'SAU', 'SDN', 'SEN', 'SGP', 'SHN', 'SLB', 'SLE',\n",
    "                            'SLV', 'SOM', 'SSD', 'STP', 'SUR', 'SWZ', 'SXM', 'SYC', 'SYR', 'TCA', 'TCD', 'TGO', 'THA', 'TJK',\n",
    "                            'TKL', 'TKM', 'TLS', 'TON', 'TTO', 'TUN', 'TUR', 'TUV', 'TWN', 'TZA', 'UGA', 'URY', 'UZB', 'VCT',\n",
    "                            'VEN', 'VGB', 'VIR', 'VNM', 'VUT', 'WLF', 'WSM', 'YEM', 'ZAF', 'ZMB', 'ZWE']\n",
    "Least_developed_countries = ['AFG', 'AGO', 'BDI', 'BEN', 'BFA', 'BGD', 'BTN', 'CAF', 'COD', 'COM', 'DJI', 'ERI', 'ETH', 'GIN',\n",
    "                             'GMB', 'GNB', 'HTI', 'KHM', 'KIR', 'LAO', 'LBR', 'LSO', 'MDG', 'MLI', 'MMR', 'MOZ', 'MRT', 'MWI',\n",
    "                             'NER', 'NPL', 'RWA', 'SDN', 'SEN', 'SLB', 'SLE', 'SOM', 'SSD', 'STP', 'TCD', 'TGO', 'TLS', 'TUV',\n",
    "                             'TZA', 'UGA', 'YEM', 'ZMB']"
   ]
  },
  {
   "cell_type": "code",
   "execution_count": 26,
   "id": "f6f7041e",
   "metadata": {},
   "outputs": [],
   "source": [
    "# Less developed countries with exclusions\n",
    "Less_developed_excluding_least_developed = ['ABW', 'AIA', 'ARE', 'ARG', 'ARM', 'ASM', 'ATG', 'AZE', 'BES', 'BHR', 'BHS', 'BLM',\n",
    "                                            'BLZ', 'BOL', 'BRA', 'BRB', 'BRN', 'BWA', 'CHL', 'CHN', 'CIV', 'CMR', 'COG', 'COK',\n",
    "                                            'COL', 'CPV', 'CRI', 'CUB', 'CUW', 'CYM', 'CYP', 'DMA', 'DOM', 'DZA', 'ECU', 'EGY',\n",
    "                                            'ESH', 'FJI', 'FLK', 'FSM', 'GAB', 'GEO', 'GHA', 'GLP', 'GNQ', 'GRD', 'GTM', 'GUF',\n",
    "                                            'GUM', 'GUY', 'HKG', 'HND', 'IDN', 'IND', 'IRN', 'IRQ', 'ISR', 'JAM', 'JOR', 'KAZ',\n",
    "                                            'KEN', 'KGZ', 'KNA', 'KOR', 'KWT', 'LBN', 'LBY', 'LCA', 'LKA', 'MAC', 'MAF', 'MAR',\n",
    "                                            'MDV', 'MEX', 'MHL', 'MNG', 'MNP', 'MSR', 'MTQ', 'MUS', 'MYS', 'MYT', 'NAM', 'NCL',\n",
    "                                            'NGA', 'NIC', 'NIU', 'NRU', 'OMN', 'PAK', 'PAN', 'PER', 'PHL', 'PLW', 'PNG', 'PRI',\n",
    "                                            'PRK', 'PRY', 'PSE', 'PYF', 'QAT', 'REU', 'SAU', 'SGP', 'SHN', 'SLV', 'SUR', 'SWZ',\n",
    "                                            'SXM', 'SYC', 'SYR', 'TCA', 'THA', 'TJK', 'TKL', 'TKM', 'TON', 'TTO', 'TUN', 'TUR',\n",
    "                                            'TWN', 'URY', 'UZB', 'VCT', 'VEN', 'VGB', 'VIR', 'VNM', 'VUT', 'WLF', 'WSM', 'ZAF',\n",
    "                                            'ZWE']\n",
    "# Excluding China\n",
    "Less_developed_excluding_China = ['ABW', 'AFG', 'AGO', 'AIA', 'ARE', 'ARG', 'ARM', 'ASM', 'ATG', 'AZE', 'BDI', 'BEN', 'BES',\n",
    "                                  'BFA', 'BGD', 'BHR', 'BHS', 'BLM', 'BLZ', 'BOL', 'BRA', 'BRB', 'BRN', 'BTN', 'BWA', 'CAF',\n",
    "                                  'CHL', 'CIV', 'CMR', 'COD', 'COG', 'COK', 'COL', 'COM', 'CPV', 'CRI', 'CUB', 'CUW', 'CYM',\n",
    "                                  'CYP', 'DJI', 'DMA', 'DOM', 'DZA', 'ECU', 'EGY', 'ERI', 'ESH', 'ETH', 'FJI', 'FLK', 'FSM',\n",
    "                                  'GAB', 'GEO', 'GHA', 'GIN', 'GLP', 'GMB', 'GNB', 'GNQ', 'GRD', 'GTM', 'GUF', 'GUM', 'GUY',\n",
    "                                  'HKG', 'HND', 'HTI', 'IDN', 'IND', 'IRN', 'IRQ', 'ISR', 'JAM', 'JOR', 'KAZ', 'KEN', 'KGZ',\n",
    "                                  'KHM', 'KIR', 'KNA', 'KOR', 'KWT', 'LAO', 'LBN', 'LBR', 'LBY', 'LCA', 'LKA', 'LSO', 'MAC',\n",
    "                                  'MAF', 'MAR', 'MDG', 'MDV', 'MEX', 'MHL', 'MLI', 'MMR', 'MNG', 'MNP', 'MOZ', 'MRT', 'MSR',\n",
    "                                  'MTQ', 'MUS', 'MWI', 'MYS', 'MYT', 'NAM', 'NCL', 'NER', 'NGA', 'NIC', 'NIU', 'NPL', 'NRU',\n",
    "                                  'OMN', 'PAK', 'PAN', 'PER', 'PHL', 'PLW', 'PNG', 'PRI', 'PRK', 'PRY', 'PSE', 'PYF', 'QAT',\n",
    "                                  'REU', 'RWA', 'SAU', 'SDN', 'SEN', 'SGP', 'SHN', 'SLB', 'SLE', 'SLV', 'SOM', 'SSD', 'STP',\n",
    "                                  'SUR', 'SWZ', 'SXM', 'SYC', 'SYR', 'TCA', 'TCD', 'TGO', 'THA', 'TJK', 'TKL', 'TKM', 'TLS',\n",
    "                                  'TON', 'TTO', 'TUN', 'TUR', 'TUV', 'TWN', 'TZA', 'UGA', 'URY', 'UZB', 'VCT', 'VEN', 'VGB',\n",
    "                                  'VIR', 'VNM', 'VUT', 'WLF', 'WSM', 'YEM', 'ZAF', 'ZMB', 'ZWE']"
   ]
  },
  {
   "cell_type": "code",
   "execution_count": 27,
   "id": "eeb95f1a",
   "metadata": {},
   "outputs": [],
   "source": [
    "# SDG groups\n",
    "Sub_Saharan_Africa = ['AGO', 'BDI', 'BEN', 'BFA', 'BWA', 'CAF', 'CIV', 'CMR', 'COD', 'COG', 'COM', 'CPV', 'DJI', 'ERI', 'ETH',\n",
    "                      'GAB', 'GHA', 'GIN', 'GMB', 'GNB', 'GNQ', 'KEN', 'LBR', 'LSO', 'MDG', 'MLI', 'MOZ', 'MRT', 'MUS', 'MWI',\n",
    "                      'MYT', 'NAM', 'NER', 'NGA', 'REU', 'RWA', 'SEN', 'SHN', 'SLE', 'SOM', 'SSD', 'STP', 'SWZ', 'SYC', 'TCD',\n",
    "                      'TGO', 'TZA', 'UGA', 'ZAF', 'ZMB', 'ZWE']\n",
    "SDG_Northern_Africa_and_Western_Asia = ['ARE', 'ARM', 'AZE', 'BHR', 'CYP', 'DZA', 'EGY', 'ESH', 'GEO', 'IRQ', 'ISR', 'JOR',\n",
    "                                        'KWT', 'LBN', 'LBY', 'MAR', 'OMN', 'PSE', 'QAT', 'SAU', 'SDN', 'SYR', 'TUN', 'TUR',\n",
    "                                        'YEM']\n",
    "SDG_Central_and_Southern_Asia = ['AFG', 'BGD', 'BTN', 'IND', 'IRN', 'KAZ', 'KGZ', 'LKA', 'MDV', 'NPL', 'PAK', 'TJK', 'TKM', 'UZB']\n",
    "SDG_Eastern_and_South_Eastern_Asia = ['BRN', 'CHN', 'HKG', 'IDN', 'JPN', 'KHM', 'KOR', 'LAO', 'MAC', 'MMR', 'MNG', 'MYS', 'PHL',\n",
    "                                      'PRK', 'SGP', 'THA', 'TLS', 'TWN', 'VNM']\n",
    "SDG_Oceania = ['ASM', 'COK', 'FJI', 'FSM', 'GUM', 'KIR', 'MHL', 'MNP', 'NCL', 'NIU', 'NRU', 'PLW', 'PNG', 'PYF', 'SLB', 'TKL',\n",
    "               'TON', 'TUV', 'VUT', 'WLF', 'WSM']\n",
    "SDG_Latin_America_and_the_Caribbean = ['ABW', 'AIA', 'ARG', 'ATG', 'BES', 'BHS', 'BLM', 'BLZ', 'BOL', 'BRA', 'BRB', 'CHL', 'COL',\n",
    "                                       'CRI', 'CUB', 'CUW', 'CYM', 'DMA', 'DOM', 'ECU', 'FLK', 'GLP', 'GRD', 'GTM', 'GUF', 'GUY',\n",
    "                                       'HND', 'HTI', 'JAM', 'KNA', 'LCA', 'MAF', 'MEX', 'MSR', 'MTQ', 'NIC', 'PAN', 'PER', 'PRI',\n",
    "                                       'PRY', 'SLV', 'SUR', 'SXM', 'TCA', 'TTO', 'URY', 'VCT', 'VEN', 'VGB', 'VIR']\n",
    "SDG_Australia_New_Zealand = ['AUS', 'NZL']\n",
    "SDG_Europe_and_Northern_America = ['ALB', 'AND', 'AUT', 'BEL', 'BGR', 'BIH', 'BLR', 'BMU', 'CAN', 'CHE', 'CZE', 'DEU', 'DNK',\n",
    "                                   'ESP', 'EST', 'FIN', 'FRA', 'FRO', 'GBR', 'GGY', 'GIB', 'GRC', 'GRL', 'HRV', 'HUN', 'IMN',\n",
    "                                   'IRL', 'ISL', 'ITA', 'JEY', 'LIE', 'LTU', 'LUX', 'LVA', 'MCO', 'MDA', 'MKD', 'MLT', 'MNE',\n",
    "                                   'NLD', 'NOR', 'POL', 'PRT', 'ROU', 'RUS', 'SMR', 'SPM', 'SRB', 'SVK', 'SVN', 'SWE', 'UKR',\n",
    "                                   'USA', 'XKX']"
   ]
  },
  {
   "cell_type": "code",
   "execution_count": 28,
   "id": "b325cf56",
   "metadata": {},
   "outputs": [],
   "source": [
    "# Income groups\n",
    "Low_income_countries = ['AFG', 'BDI', 'BFA', 'CAF', 'COD', 'ERI', 'ETH', 'GIN', 'GMB', 'GNB', 'LBR', 'MDG', 'MLI', 'MOZ',\n",
    "                        'MWI', 'NER', 'PsRK', 'RWA', 'SDN', 'SLE', 'SOM', 'SSD', 'SYR', 'TCD', 'TGO', 'UGA', 'YEM', 'ZMB']\n",
    "Low_middle_income_countries = ['AGO', 'BEN', 'BGD', 'BOL', 'BTN', 'CIV', 'CMR', 'COG', 'COM', 'CPV', 'DJI', 'DZA', 'EGY', 'FSM',\n",
    "                               'GHA', 'HND', 'HTI', 'IDN', 'IND', 'IRN', 'KEN', 'KGZ', 'KHM', 'KIR', 'LAO', 'LBN', 'LKA', 'LSO',\n",
    "                               'MAR', 'MMR', 'MNG', 'MRT', 'NGA', 'NIC', 'NPL', 'PAK', 'PHL', 'PNG', 'PRK', 'PSE', 'SEN', 'SLB',\n",
    "                               'SLV', 'STP', 'SWZ', 'TJK', 'TLS', 'TUN', 'TZA', 'UKR', 'UZB', 'VNM', 'VUT', 'WSM', 'ZWE']\n",
    "Upper_middle_income_countries = ['ALB', 'ARG', 'ARM', 'ASM', 'AZE', 'BGR', 'BIH', 'BLR', 'BLZ', 'BRA', 'BWA', 'CHN', 'COL',\n",
    "                                 'CRI', 'CUB', 'DMA', 'DOM', 'ECU', 'FJI', 'GAB', 'GEO', 'GNQ', 'GRD', 'GTM', 'GUY', 'IRQ',\n",
    "                                 'JAM', 'JOR', 'KAZ', 'LBY', 'LCA', 'MDA', 'MDV', 'MEX', 'MHL', 'MKD', 'MNE', 'MUS', 'MYS',\n",
    "                                 'NAM', 'PER', 'PLW', 'PRY', 'RUS', 'SRB', 'SUR', 'THA', 'TKM', 'TON', 'TUR', 'TUV', 'VCT',\n",
    "                                 'XKX', 'ZAF']\n",
    "Middle_income_countries = ['AGO', 'ALB', 'ARG', 'ARM', 'ASM', 'AZE', 'BEN', 'BGD', 'BGR', 'BIH', 'BLR', 'BLZ', 'BOL', 'BRA',\n",
    "                           'BTN', 'BWA', 'CHN', 'CIV', 'CMR', 'COG', 'COL', 'COM', 'CPV', 'CRI', 'CUB', 'DJI', 'DMA', 'DOM',\n",
    "                           'DZA', 'ECU', 'EGY', 'FJI', 'FSM', 'GAB', 'GEO', 'GHA', 'GNQ', 'GRD', 'GTM', 'GUY', 'HND', 'HTI',\n",
    "                           'IDN', 'IND', 'IRN', 'IRQ', 'JAM', 'JOR', 'KAZ', 'KEN', 'KGZ', 'KHM', 'KIR', 'LAO', 'LBN', 'LBY',\n",
    "                           'LCA', 'LKA', 'LSO', 'MAR', 'MDA', 'MDV', 'MEX', 'MHL', 'MKD', 'MMR', 'MNE', 'MNG', 'MRT', 'MUS',\n",
    "                           'MYS', 'NAM', 'NGA', 'NIC', 'NPL', 'PAK', 'PER', 'PHL', 'PLW', 'PNG', 'PRK', 'PRY', 'PSE', 'RUS',\n",
    "                           'SEN', 'SLB', 'SLV', 'SRB', 'STP', 'SUR', 'SWZ', 'THA', 'TJK', 'TKM', 'TLS', 'TON', 'TUN', 'TUR',\n",
    "                           'TUV', 'TZA', 'UKR', 'UZB', 'VCT', 'VNM', 'VUT', 'WSM', 'XKX', 'ZAF', 'ZWE']\n",
    "High_income_countries = ['ABW', 'AND', 'ARE', 'ATG', 'AUS', 'AUT', 'BEL', 'BHR', 'BHS', 'BMU', 'BRB', 'BRN', 'CAN', 'CHE', 'CHL',\n",
    "                         'CUW', 'CYM', 'CYP', 'CZE', 'DEU', 'DNK', 'ESP', 'EST', 'FIN', 'FRA', 'FRO', 'GBR', 'GGY', 'GIB', 'GRC',\n",
    "                         'GRL', 'GUM', 'HKG', 'HRV', 'HUN', 'IMN', 'IRL', 'ISL', 'ISR', 'ITA', 'JEY', 'JPN', 'KNA', 'KOR', 'KWT',\n",
    "                         'LIE', 'LTU', 'LUX', 'LVA', 'MAC', 'MAF', 'MCO', 'MLT', 'MNP', 'NCL', 'NLD', 'NOR', 'NRU', 'NZL', 'OMN',\n",
    "                         'PAN', 'POL', 'PRI', 'PRT', 'PYF', 'QAT', 'ROU', 'SAU', 'SGP', 'SMR', 'SVK', 'SVN', 'SWE', 'SXM', 'SYC',\n",
    "                         'TCA', 'TTO', 'TWN', 'URY', 'USA', 'VGB', 'VIR']\n",
    "No_income_group = ['AIA', 'BES', 'BLM', 'COK', 'ESH', 'FLK', 'GLP', 'GUF', 'MSR', 'MTQ', 'MYT', 'NIU', 'REU',\n",
    "                   'SHN', 'SPM', 'TKL', 'VEN', 'WLF']"
   ]
  },
  {
   "cell_type": "code",
   "execution_count": 29,
   "id": "73bd1d12",
   "metadata": {},
   "outputs": [],
   "source": [
    "# Other special groups\n",
    "Landlocked_developing_countries = ['AFG', 'ARM', 'AZE', 'BDI', 'BFA', 'BOL', 'BTN', 'BWA', 'CAF', 'ETH', 'KAZ', 'KGZ', 'LAO',\n",
    "                                   'LSO', 'MDA', 'MKD', 'MLI', 'MNG', 'MWI', 'NER', 'NPL', 'PRY', 'RWA', 'SSD', 'SWZ', 'TCD',\n",
    "                                   'TJK', 'TKM', 'UGA', 'UZB', 'ZMB', 'ZWE']\n",
    "Small_island_developing_countries = ['ABW', 'AIA', 'ASM', 'ATG', 'BHR', 'BHS', 'BLZ', 'BMU', 'BRB', 'COK', 'COM', 'CPV', 'CUB',\n",
    "                                     'CUW', 'CYM', 'DMA', 'DOM', 'FJI', 'FSM', 'GLP', 'GNB', 'GRD', 'GUM', 'GUY', 'HTI', 'JAM',\n",
    "                                     'KIR', 'KNA', 'LCA', 'MDV', 'MHL', 'MNP', 'MSR', 'MTQ', 'MUS', 'NCL', 'NIU', 'NRU', 'PLW',\n",
    "                                     'PNG', 'PRI', 'PYF', 'SGP', 'SLB', 'STP', 'SUR', 'SXM', 'SYC', 'TCA', 'TLS', 'TON', 'TTO',\n",
    "                                     'TUV', 'VCT', 'VGB', 'VIR', 'VUT', 'WSM']"
   ]
  },
  {
   "cell_type": "code",
   "execution_count": 30,
   "id": "28483b7e",
   "metadata": {},
   "outputs": [],
   "source": [
    "# Convert datatypes of 'Region Type' and 'Year' to category and period respectively for historical data\n",
    "df['Region Type'] = df['Region Type'].astype('category')\n",
    "df['Year'] = pd.to_datetime(df['Year'], format='%Y').dt.to_period('Y')\n",
    "\n",
    "# Convert datatypes of 'Region Type' and 'Year' to category and period  for estimated data\n",
    "es['Region Type'] = es['Region Type'].astype('category')\n",
    "es['Year'] = pd.to_datetime(es['Year'], format='%Y').dt.to_period('Y')"
   ]
  },
  {
   "cell_type": "code",
   "execution_count": 31,
   "id": "56088f4a",
   "metadata": {},
   "outputs": [],
   "source": [
    "# Convert datatypes of unspecified columns to floats for historical data\n",
    "others = ['Region', 'Region Type', 'Year', 'Country']\n",
    "cols = [i for i in df.columns if i not in others]\n",
    "for col in cols:\n",
    "    df[col] = df[col].apply(pd.to_numeric, errors='coerce')"
   ]
  },
  {
   "cell_type": "code",
   "execution_count": 32,
   "id": "67641f66",
   "metadata": {
    "scrolled": true
   },
   "outputs": [],
   "source": [
    "# Convert datatypes of unspecified columns to floats for estimated data\n",
    "for col in cols:\n",
    "    es[col] = es[col].apply(pd.to_numeric, errors='coerce')"
   ]
  },
  {
   "cell_type": "code",
   "execution_count": 33,
   "id": "4cb905e8",
   "metadata": {},
   "outputs": [],
   "source": [
    "# Multiply numeric values of selected columns by 1000\n",
    "num_vars = ['Total Population', 'Natural Change', 'Population Change', 'Births', 'Births by women aged 15 to 19',\n",
    "            'Total Deaths', 'Live Births Surviving to Age 1', 'Net Number of Migrants']\n",
    "df[num_vars] *= 1000\n",
    "es[num_vars] *= 1000"
   ]
  },
  {
   "cell_type": "code",
   "execution_count": 34,
   "id": "1bb63946",
   "metadata": {},
   "outputs": [],
   "source": [
    "# Reset index\n",
    "df = df.reset_index()\n",
    "es = es.reset_index()"
   ]
  },
  {
   "cell_type": "code",
   "execution_count": 35,
   "id": "841e4134",
   "metadata": {},
   "outputs": [],
   "source": [
    "# Subset dataframes by country\n",
    "df_2 = df[df['Region Type'] == 'Country/Area']\n",
    "es_2 = es[es['Region Type'] == 'Country/Area']"
   ]
  },
  {
   "cell_type": "code",
   "execution_count": 36,
   "id": "9e45bedc",
   "metadata": {},
   "outputs": [],
   "source": [
    "# Create new copy of subsetted data\n",
    "df_ = df_2.copy()\n",
    "es_ = es_2.copy()"
   ]
  },
  {
   "cell_type": "code",
   "execution_count": 37,
   "id": "24fc71a2",
   "metadata": {},
   "outputs": [],
   "source": [
    "# Drop Region and Region type columns\n",
    "df_.drop(['Region', 'Region Type'], axis=1, inplace=True)\n",
    "es_.drop(['Region', 'Region Type'], axis=1, inplace=True)"
   ]
  },
  {
   "cell_type": "code",
   "execution_count": 38,
   "id": "4f70884a",
   "metadata": {},
   "outputs": [],
   "source": [
    "# Rename country column\n",
    "df_ = df_.rename(columns={'Country':'Country/Area'})\n",
    "es_ = es_.rename(columns={'Country':'Country/Area'})"
   ]
  },
  {
   "cell_type": "code",
   "execution_count": 39,
   "id": "58df80ef",
   "metadata": {},
   "outputs": [],
   "source": [
    "# Create empty columns of region types in both datasets to be filled with list of string values\n",
    "df_['Region'] = ''\n",
    "df_['Subregion'] = ''\n",
    "df_['Development Group'] = ''\n",
    "df_['Income Group'] = ''\n",
    "df_['SDG region'] = ''\n",
    "df_['Special other'] = ''\n",
    "\n",
    "es_['Region'] = ''\n",
    "es_['Subregion'] = ''\n",
    "es_['Development Group'] = ''\n",
    "es_['Income Group'] = ''\n",
    "es_['SDG region'] = ''\n",
    "es_['Special other'] = ''"
   ]
  },
  {
   "cell_type": "code",
   "execution_count": 40,
   "id": "c7b8d727",
   "metadata": {},
   "outputs": [],
   "source": [
    "# Assign Regions (historical)\n",
    "df_.loc[df_['Country/Area'].isin(Africa),'Region'] = 'AFRICA'\n",
    "df_.loc[df_['Country/Area'].isin(Asia),'Region'] = 'ASIA'\n",
    "df_.loc[df_['Country/Area'].isin(Europe),'Region'] = 'EUROPE'\n",
    "df_.loc[df_['Country/Area'].isin(Latin_America_and_the_Caribbean),'Region'] = 'LATIN AMERICA AND THE CARIBBEAN'\n",
    "df_.loc[df_['Country/Area'].isin(Northern_America),'Region'] = 'NORTHERN AMERICA'\n",
    "df_.loc[df_['Country/Area'].isin(Oceania),'Region'] = 'OCEANIA'"
   ]
  },
  {
   "cell_type": "code",
   "execution_count": 41,
   "id": "2be3eca4",
   "metadata": {},
   "outputs": [],
   "source": [
    "# Assign Regions (estimated)\n",
    "es_.loc[es_['Country/Area'].isin(Africa),'Region'] = 'AFRICA'\n",
    "es_.loc[es_['Country/Area'].isin(Asia),'Region'] = 'ASIA'\n",
    "es_.loc[es_['Country/Area'].isin(Europe),'Region'] = 'EUROPE'\n",
    "es_.loc[es_['Country/Area'].isin(Latin_America_and_the_Caribbean),'Region'] = 'LATIN AMERICA AND THE CARIBBEAN'\n",
    "es_.loc[es_['Country/Area'].isin(Northern_America),'Region'] = 'NORTHERN AMERICA'\n",
    "es_.loc[es_['Country/Area'].isin(Oceania),'Region'] = 'OCEANIA'"
   ]
  },
  {
   "cell_type": "code",
   "execution_count": 42,
   "id": "28f7268a",
   "metadata": {},
   "outputs": [],
   "source": [
    "# Assign Subregions (historical)\n",
    "df_.loc[df_['Country/Area'].isin(Eastern_Africa),'Subregion'] = 'Eastern Africa'\n",
    "df_.loc[df_['Country/Area'].isin(Central_Africa),'Subregion'] = 'Middle Africa'\n",
    "df_.loc[df_['Country/Area'].isin(Northern_Africa),'Subregion'] = 'Northern Africa'\n",
    "df_.loc[df_['Country/Area'].isin(Southern_Africa),'Subregion'] = 'Southern Africa'\n",
    "df_.loc[df_['Country/Area'].isin(Western_Africa),'Subregion'] = 'Western Africa'\n",
    "df_.loc[df_['Country/Area'].isin(Central_Asia),'Subregion'] = 'Central Asia'\n",
    "df_.loc[df_['Country/Area'].isin(Eastern_Asia),'Subregion'] = 'Eastern Asia'\n",
    "df_.loc[df_['Country/Area'].isin(Southern_Asia),'Subregion'] = 'Southern Asia'\n",
    "df_.loc[df_['Country/Area'].isin(South_Eastern_Asia),'Subregion'] = 'South-Eastern Asia'\n",
    "df_.loc[df_['Country/Area'].isin(Western_Asia),'Subregion'] = 'Western Asia'\n",
    "df_.loc[df_['Country/Area'].isin(Eastern_Europe),'Subregion'] = 'Eastern Europe'\n",
    "df_.loc[df_['Country/Area'].isin(Northern_Europe),'Subregion'] = 'Northern Europe'\n",
    "df_.loc[df_['Country/Area'].isin(Southern_Europe),'Subregion'] = 'Southern Europe'\n",
    "df_.loc[df_['Country/Area'].isin(Western_Europe),'Subregion'] = 'Western Europe'\n",
    "df_.loc[df_['Country/Area'].isin(Northern_America),'Subregion'] = 'Northern America'\n",
    "df_.loc[df_['Country/Area'].isin(Caribbean),'Subregion'] = 'Caribbean'\n",
    "df_.loc[df_['Country/Area'].isin(Central_America),'Subregion'] = 'Central America'\n",
    "df_.loc[df_['Country/Area'].isin(South_America),'Subregion'] = 'South America'\n",
    "df_.loc[df_['Country/Area'].isin(Australia_New_Zealand),'Subregion'] = 'Australia/New Zealand'\n",
    "df_.loc[df_['Country/Area'].isin(Melanesia),'Subregion'] = 'Melanesia'\n",
    "df_.loc[df_['Country/Area'].isin(Micronesia),'Subregion'] = 'Micronesia'\n",
    "df_.loc[df_['Country/Area'].isin(Polynesia),'Subregion'] = 'Polynesia'"
   ]
  },
  {
   "cell_type": "code",
   "execution_count": 43,
   "id": "ef7f04f4",
   "metadata": {},
   "outputs": [],
   "source": [
    "# Assign Subregions (estimated)\n",
    "es_.loc[es_['Country/Area'].isin(Eastern_Africa),'Subregion'] = 'Eastern Africa'\n",
    "es_.loc[es_['Country/Area'].isin(Central_Africa),'Subregion'] = 'Middle Africa'\n",
    "es_.loc[es_['Country/Area'].isin(Northern_Africa),'Subregion'] = 'Northern Africa'\n",
    "es_.loc[es_['Country/Area'].isin(Southern_Africa),'Subregion'] = 'Southern Africa'\n",
    "es_.loc[es_['Country/Area'].isin(Western_Africa),'Subregion'] = 'Western Africa'\n",
    "es_.loc[es_['Country/Area'].isin(Central_Asia),'Subregion'] = 'Central Asia'\n",
    "es_.loc[es_['Country/Area'].isin(Eastern_Asia),'Subregion'] = 'Eastern Asia'\n",
    "es_.loc[es_['Country/Area'].isin(Southern_Asia),'Subregion'] = 'Southern Asia'\n",
    "es_.loc[es_['Country/Area'].isin(South_Eastern_Asia),'Subregion'] = 'South-Eastern Asia'\n",
    "es_.loc[es_['Country/Area'].isin(Western_Asia),'Subregion'] = 'Western Asia'\n",
    "es_.loc[es_['Country/Area'].isin(Eastern_Europe),'Subregion'] = 'Eastern Europe'\n",
    "es_.loc[es_['Country/Area'].isin(Northern_Europe),'Subregion'] = 'Northern Europe'\n",
    "es_.loc[es_['Country/Area'].isin(Southern_Europe),'Subregion'] = 'Southern Europe'\n",
    "es_.loc[es_['Country/Area'].isin(Western_Europe),'Subregion'] = 'Western Europe'\n",
    "es_.loc[es_['Country/Area'].isin(Northern_America),'Subregion'] = 'Northern America'\n",
    "es_.loc[es_['Country/Area'].isin(Caribbean),'Subregion'] = 'Caribbean'\n",
    "es_.loc[es_['Country/Area'].isin(Central_America),'Subregion'] = 'Central America'\n",
    "es_.loc[es_['Country/Area'].isin(South_America),'Subregion'] = 'South America'\n",
    "es_.loc[es_['Country/Area'].isin(Australia_New_Zealand),'Subregion'] = 'Australia/New Zealand'\n",
    "es_.loc[es_['Country/Area'].isin(Melanesia),'Subregion'] = 'Melanesia'\n",
    "es_.loc[es_['Country/Area'].isin(Micronesia),'Subregion'] = 'Micronesia'\n",
    "es_.loc[es_['Country/Area'].isin(Polynesia),'Subregion'] = 'Polynesia'"
   ]
  },
  {
   "cell_type": "code",
   "execution_count": 44,
   "id": "22aae541",
   "metadata": {},
   "outputs": [],
   "source": [
    "# Assign Development groups (historical)\n",
    "df_.loc[df_['Country/Area'].isin(More_developed_countries),'Development Group'] = 'More developed regions'\n",
    "df_.loc[df_['Country/Area'].isin(Less_developed_countries),'Development Group'] = 'Less developed regions'"
   ]
  },
  {
   "cell_type": "code",
   "execution_count": 45,
   "id": "09cffaaf",
   "metadata": {},
   "outputs": [],
   "source": [
    "# Assign Development groups (estimated)\n",
    "es_.loc[es_['Country/Area'].isin(More_developed_countries),'Development Group'] = 'More developed regions'\n",
    "es_.loc[es_['Country/Area'].isin(Less_developed_countries),'Development Group'] = 'Less developed regions'"
   ]
  },
  {
   "cell_type": "code",
   "execution_count": 46,
   "id": "0ff28a6c",
   "metadata": {},
   "outputs": [],
   "source": [
    "# Assign Income groups (historical)\n",
    "df_.loc[df_['Country/Area'].isin(High_income_countries),'Income Group'] = 'High-income countries'\n",
    "df_.loc[df_['Country/Area'].isin(Low_income_countries),'Income Group'] = 'Low-income countries'\n",
    "df_.loc[df_['Country/Area'].isin(Middle_income_countries),'Income Group'] = 'Middle-income countries'\n",
    "df_.loc[df_['Country/Area'].isin(No_income_group),'Income Group'] = 'No income group available'"
   ]
  },
  {
   "cell_type": "code",
   "execution_count": 47,
   "id": "fa6b661f",
   "metadata": {},
   "outputs": [],
   "source": [
    "# Assign Income groups (estimated)\n",
    "es_.loc[es_['Country/Area'].isin(High_income_countries),'Income Group'] = 'High-income countries'\n",
    "es_.loc[es_['Country/Area'].isin(Low_income_countries),'Income Group'] = 'Low-income countries'\n",
    "es_.loc[es_['Country/Area'].isin(Middle_income_countries),'Income Group'] = 'Middle-income countries'\n",
    "es_.loc[es_['Country/Area'].isin(No_income_group),'Income Group'] = 'No income group available'"
   ]
  },
  {
   "cell_type": "code",
   "execution_count": 48,
   "id": "72d555dd",
   "metadata": {},
   "outputs": [],
   "source": [
    "# Assign SDG regions (historical)\n",
    "df_.loc[df_['Country/Area'].isin(Sub_Saharan_Africa),'SDG region'] = 'Sub-Saharan Africa'\n",
    "df_.loc[df_['Country/Area'].isin(SDG_Northern_Africa_and_Western_Asia),'SDG region'] = 'Northern Africa and Western Asia'\n",
    "df_.loc[df_['Country/Area'].isin(SDG_Central_and_Southern_Asia),'SDG region'] = 'Central and Southern Asia'\n",
    "df_.loc[df_['Country/Area'].isin(SDG_Eastern_and_South_Eastern_Asia),'SDG region'] = 'Eastern and South-Eastern Asia'\n",
    "df_.loc[df_['Country/Area'].isin(SDG_Latin_America_and_the_Caribbean),'SDG region'] = 'Latin America and the Caribbean'\n",
    "df_.loc[df_['Country/Area'].isin(SDG_Oceania),'SDG region'] = 'Oceania (excluding Australia and New Zealand)'\n",
    "df_.loc[df_['Country/Area'].isin(SDG_Australia_New_Zealand),'SDG region'] = 'Australia/New Zealand'\n",
    "df_.loc[df_['Country/Area'].isin(SDG_Europe_and_Northern_America),'SDG region'] = 'Europe and Northern America'"
   ]
  },
  {
   "cell_type": "code",
   "execution_count": 49,
   "id": "210d9ec2",
   "metadata": {},
   "outputs": [],
   "source": [
    "# Assign SDG regions (estimated)\n",
    "es_.loc[es_['Country/Area'].isin(Sub_Saharan_Africa),'SDG region'] = 'Sub-Saharan Africa'\n",
    "es_.loc[es_['Country/Area'].isin(SDG_Northern_Africa_and_Western_Asia),'SDG region'] = 'Northern Africa and Western Asia'\n",
    "es_.loc[es_['Country/Area'].isin(SDG_Central_and_Southern_Asia),'SDG region'] = 'Central and Southern Asia'\n",
    "es_.loc[es_['Country/Area'].isin(SDG_Eastern_and_South_Eastern_Asia),'SDG region'] = 'Eastern and South-Eastern Asia'\n",
    "es_.loc[es_['Country/Area'].isin(SDG_Latin_America_and_the_Caribbean),'SDG region'] = 'Latin America and the Caribbean'\n",
    "es_.loc[es_['Country/Area'].isin(SDG_Oceania),'SDG region'] = 'Oceania (excluding Australia and New Zealand)'\n",
    "es_.loc[es_['Country/Area'].isin(SDG_Australia_New_Zealand),'SDG region'] = 'Australia/New Zealand'\n",
    "es_.loc[es_['Country/Area'].isin(SDG_Europe_and_Northern_America),'SDG region'] = 'Europe and Northern America'"
   ]
  },
  {
   "cell_type": "code",
   "execution_count": 50,
   "id": "78e431ee",
   "metadata": {},
   "outputs": [],
   "source": [
    "# Assign other special groups (historical)\n",
    "df_.loc[df_['Country/Area'].isin(Landlocked_developing_countries),'Special other'] = 'Land-locked Developing Countries (LLDC)'\n",
    "df_.loc[df_['Country/Area'].isin(Small_island_developing_countries),'Special other'] = 'Small Island Developing States (SIDS)'\n",
    "Special = Landlocked_developing_countries + Small_island_developing_countries\n",
    "df_.loc[~df_['Country/Area'].isin(Special),'Special other'] = 'Non-designated'"
   ]
  },
  {
   "cell_type": "code",
   "execution_count": 51,
   "id": "9cbf4ed1",
   "metadata": {},
   "outputs": [],
   "source": [
    "# Assign other special groups\n",
    "es_.loc[es_['Country/Area'].isin(Landlocked_developing_countries),'Special other'] = 'Land-locked Developing Countries (LLDC)'\n",
    "es_.loc[es_['Country/Area'].isin(Small_island_developing_countries),'Special other'] = 'Small Island Developing States (SIDS)'\n",
    "es_.loc[~es_['Country/Area'].isin(Special),'Special other'] = 'Non-designated'"
   ]
  },
  {
   "cell_type": "code",
   "execution_count": 52,
   "id": "408f36fe",
   "metadata": {},
   "outputs": [
    {
     "name": "stdout",
     "output_type": "stream",
     "text": [
      "False\n",
      "False\n"
     ]
    }
   ],
   "source": [
    "# Check for null values in datasets\n",
    "print(df_.isnull().sum().any())\n",
    "print(es_.isnull().sum().any())"
   ]
  },
  {
   "cell_type": "code",
   "execution_count": 53,
   "id": "ab89c577",
   "metadata": {},
   "outputs": [],
   "source": [
    "# Create dictionary containing alpha 3 country codes as keys and country names as values\n",
    "keys = df[df['Region Type'] == 'Country/Area'].Country.unique()\n",
    "values = df[df['Region Type'] == 'Country/Area'].Region.unique()\n",
    "dictionary = dict(zip(keys, values))"
   ]
  },
  {
   "cell_type": "code",
   "execution_count": 54,
   "id": "fb69ca2c",
   "metadata": {},
   "outputs": [],
   "source": [
    "# Replace alpha 3 codes with country names\n",
    "df_['Country/Area'] = df_['Country/Area'].replace(dictionary, regex=True)\n",
    "es_['Country/Area'] = es_['Country/Area'].replace(dictionary, regex=True)"
   ]
  },
  {
   "cell_type": "code",
   "execution_count": 55,
   "id": "2aabf84b",
   "metadata": {},
   "outputs": [
    {
     "data": {
      "text/plain": [
       "((18644, 38), (16992, 38))"
      ]
     },
     "execution_count": 55,
     "metadata": {},
     "output_type": "execute_result"
    }
   ],
   "source": [
    "# Check dimensions\n",
    "es_.shape, df_.shape"
   ]
  },
  {
   "cell_type": "code",
   "execution_count": null,
   "id": "9ae73c58",
   "metadata": {},
   "outputs": [],
   "source": [
    "# Save tidy datasets\n",
    "df_.to_csv('WPP2022_GEN_F01_DEMOGRAPHIC_INDICATORS_REV1_past_comb.csv', index=False, encoding='utf-8')\n",
    "es_.to_csv('WPP2022_GEN_F01_DEMOGRAPHIC_INDICATORS_REV1_estimated_comb.csv', index=False, encoding='utf-8')"
   ]
  }
 ],
 "metadata": {
  "kernelspec": {
   "display_name": "Python 3 (ipykernel)",
   "language": "python",
   "name": "python3"
  },
  "language_info": {
   "codemirror_mode": {
    "name": "ipython",
    "version": 3
   },
   "file_extension": ".py",
   "mimetype": "text/x-python",
   "name": "python",
   "nbconvert_exporter": "python",
   "pygments_lexer": "ipython3",
   "version": "3.9.12"
  }
 },
 "nbformat": 4,
 "nbformat_minor": 5
}
